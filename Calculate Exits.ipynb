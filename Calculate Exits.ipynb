{
 "cells": [
  {
   "cell_type": "code",
   "execution_count": 21,
   "metadata": {},
   "outputs": [],
   "source": [
    "import pandas as pd\n",
    "import numpy as np"
   ]
  },
  {
   "cell_type": "code",
   "execution_count": 5,
   "metadata": {},
   "outputs": [],
   "source": [
    "cities = ['asheville', 'boston', 'chicago', 'dc', 'denver', 'montreal', 'nashville', 'quebec', 'sf', 'tc']\n",
    "months = [\"jul_2018\", \"aug_2018\", \"sep_2018\", \"oct_2018\", \"nov_2018\", \"dec_2018\", \"jan_2019\", \"feb_2019\", \"mar_2019\", \"apr_2019\", \"may_2019\", \"jun_2019\"]\n",
    "path = \"data/\""
   ]
  },
  {
   "cell_type": "code",
   "execution_count": 33,
   "metadata": {},
   "outputs": [
    {
     "name": "stdout",
     "output_type": "stream",
     "text": [
      "asheville\n",
      "boston\n",
      "chicago\n",
      "dc\n",
      "denver\n",
      "montreal\n",
      "nashville\n",
      "quebec\n",
      "sf\n",
      "tc\n"
     ]
    }
   ],
   "source": [
    "entries = {}\n",
    "exits = {}\n",
    "for city in cities:\n",
    "    entries[city] = []\n",
    "    exits[city] = []\n",
    "    periods = []\n",
    "    print(city)\n",
    "    for index, month in enumerate(months[1:]):\n",
    "        prev = pd.read_csv(path + 'raw_' + city + \"_data/\" + months[index] + \"_listings.csv\")\n",
    "        post = pd.read_csv(path + 'raw_' + city + \"_data/\" + month + \"_listings.csv\")\n",
    "        entries[city].append(len(set(post.id) - set(prev.id)))\n",
    "        exits[city].append(len(set(prev.id) - set(post.id)))\n",
    "        periods.append(months[index] + \"_\" + month)"
   ]
  },
  {
   "cell_type": "code",
   "execution_count": 53,
   "metadata": {},
   "outputs": [],
   "source": [
    "entries = pd.DataFrame(entries)\n",
    "entries[\"period\"] = periods\n",
    "entries['period_no'] = np.arange(1,12)\n",
    "long_entries = pd.melt(entries, ['period', 'period_no'])\n",
    "long_entries['trt'] = 0\n",
    "long_entries.loc[17:21, 'trt'] = 1\n",
    "long_entries.to_csv(\"entries.csv\", index = False)"
   ]
  },
  {
   "cell_type": "code",
   "execution_count": 55,
   "metadata": {},
   "outputs": [],
   "source": [
    "exits = pd.DataFrame(exits)\n",
    "exits[\"period\"] = periods\n",
    "exits['period_no'] = np.arange(1,12)\n",
    "long_exits = pd.melt(exits, ['period', 'period_no'])\n",
    "long_exits['trt'] = 0\n",
    "long_exits.loc[17:21, 'trt'] = 1\n",
    "long_exits.to_csv(\"exits.csv\", index = False)"
   ]
  },
  {
   "cell_type": "code",
   "execution_count": null,
   "metadata": {},
   "outputs": [],
   "source": []
  }
 ],
 "metadata": {
  "kernelspec": {
   "display_name": "Python 3",
   "language": "python",
   "name": "python3"
  },
  "language_info": {
   "codemirror_mode": {
    "name": "ipython",
    "version": 3
   },
   "file_extension": ".py",
   "mimetype": "text/x-python",
   "name": "python",
   "nbconvert_exporter": "python",
   "pygments_lexer": "ipython3",
   "version": "3.8.1"
  }
 },
 "nbformat": 4,
 "nbformat_minor": 4
}
