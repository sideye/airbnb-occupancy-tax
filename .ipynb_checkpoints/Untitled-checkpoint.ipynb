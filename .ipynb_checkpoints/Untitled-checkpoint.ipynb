{
 "cells": [
  {
   "cell_type": "code",
   "execution_count": 29,
   "metadata": {},
   "outputs": [],
   "source": [
    "import pandas as pd\n",
    "import numpy as np"
   ]
  },
  {
   "cell_type": "code",
   "execution_count": 48,
   "metadata": {},
   "outputs": [],
   "source": [
    "def get_booked_listings(prev_listings_path, prev_calendar_path, post_listings_path, post_calendar_path, output_path):\n",
    "    prev_listings = pd.read_csv(prev_listings_path)\n",
    "    prev_calendar = pd.read_csv(prev_calendar_path)\n",
    "    post_listings = pd.read_csv(post_listings_path)\n",
    "    post_calendar = pd.read_csv(post_calendar_path)\n",
    "    \n",
    "    prev_listings = prev_listings.drop([\"price\", \"minimum_nights\", \"last_review\"], axis = 1)\n",
    "    post_listings = post_listings.drop([\"price\", \"minimum_nights\", \"last_review\"], axis = 1)\n",
    "    \n",
    "    prev = prev_listings.merge(prev_calendar, left_on = \"id\", right_on = \"listing_id\")\n",
    "    post = post_listings.merge(post_calendar, left_on = \"id\", right_on = \"listing_id\")\n",
    "    \n",
    "    prev = prev.drop([\"listing_id\"], axis = 1)\n",
    "    post = post.drop([\"listing_id\"], axis = 1)\n",
    "    \n",
    "    merged = prev.merge(post, on = [\"id\", \"date\"], suffixes = [\"_prev\", \"_post\"])\n",
    "    booking_changes = merged[(merged.available_prev == 't') & (merged.available_post == 'f')]\n",
    "    booking_changes.to_csv(output_path, index=False)"
   ]
  },
  {
   "cell_type": "code",
   "execution_count": 49,
   "metadata": {},
   "outputs": [],
   "source": [
    "get_booked_listings(\"july_listings.csv\", \"july_calendar.csv\", \"aug_listings.csv\", \"aug_calendar.csv\", \"boston_jul_aug_bookings.csv\")"
   ]
  },
  {
   "cell_type": "code",
   "execution_count": null,
   "metadata": {},
   "outputs": [],
   "source": []
  }
 ],
 "metadata": {
  "kernelspec": {
   "display_name": "Python 3",
   "language": "python",
   "name": "python3"
  },
  "language_info": {
   "codemirror_mode": {
    "name": "ipython",
    "version": 3
   },
   "file_extension": ".py",
   "mimetype": "text/x-python",
   "name": "python",
   "nbconvert_exporter": "python",
   "pygments_lexer": "ipython3",
   "version": "3.8.1"
  }
 },
 "nbformat": 4,
 "nbformat_minor": 4
}
