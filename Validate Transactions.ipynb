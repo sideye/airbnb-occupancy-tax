{
 "cells": [
  {
   "cell_type": "code",
   "execution_count": 108,
   "metadata": {},
   "outputs": [],
   "source": [
    "import pandas as pd\n",
    "import numpy as np\n",
    "from datetime import datetime\n",
    "import matplotlib.pyplot as plt"
   ]
  },
  {
   "cell_type": "markdown",
   "metadata": {},
   "source": [
    "# Validation on Transaction Imputation and Pre-Post Treatment Consistency"
   ]
  },
  {
   "cell_type": "markdown",
   "metadata": {},
   "source": [
    "### 1. Read in and Process Data"
   ]
  },
  {
   "cell_type": "code",
   "execution_count": 109,
   "metadata": {
    "scrolled": false
   },
   "outputs": [
    {
     "data": {
      "text/html": [
       "<div>\n",
       "<style scoped>\n",
       "    .dataframe tbody tr th:only-of-type {\n",
       "        vertical-align: middle;\n",
       "    }\n",
       "\n",
       "    .dataframe tbody tr th {\n",
       "        vertical-align: top;\n",
       "    }\n",
       "\n",
       "    .dataframe thead th {\n",
       "        text-align: right;\n",
       "    }\n",
       "</style>\n",
       "<table border=\"1\" class=\"dataframe\">\n",
       "  <thead>\n",
       "    <tr style=\"text-align: right;\">\n",
       "      <th></th>\n",
       "      <th>id</th>\n",
       "      <th>name_prev</th>\n",
       "      <th>host_id_prev</th>\n",
       "      <th>host_name_prev</th>\n",
       "      <th>neighbourhood_group_prev</th>\n",
       "      <th>neighbourhood_prev</th>\n",
       "      <th>latitude_prev</th>\n",
       "      <th>longitude_prev</th>\n",
       "      <th>room_type_prev</th>\n",
       "      <th>number_of_reviews_prev</th>\n",
       "      <th>...</th>\n",
       "      <th>adjusted_price</th>\n",
       "      <th>minimum_nights</th>\n",
       "      <th>maximum_nights</th>\n",
       "      <th>adjusted_price_prev</th>\n",
       "      <th>minimum_nights_prev</th>\n",
       "      <th>maximum_nights_prev</th>\n",
       "      <th>adjusted_price_post</th>\n",
       "      <th>minimum_nights_post</th>\n",
       "      <th>maximum_nights_post</th>\n",
       "      <th>month</th>\n",
       "    </tr>\n",
       "  </thead>\n",
       "  <tbody>\n",
       "    <tr>\n",
       "      <th>0</th>\n",
       "      <td>3781</td>\n",
       "      <td>HARBORSIDE-Walk to subway</td>\n",
       "      <td>4804</td>\n",
       "      <td>Frank</td>\n",
       "      <td>NaN</td>\n",
       "      <td>East Boston</td>\n",
       "      <td>42.365241</td>\n",
       "      <td>-71.029361</td>\n",
       "      <td>Entire home/apt</td>\n",
       "      <td>14</td>\n",
       "      <td>...</td>\n",
       "      <td>NaN</td>\n",
       "      <td>NaN</td>\n",
       "      <td>NaN</td>\n",
       "      <td>NaN</td>\n",
       "      <td>NaN</td>\n",
       "      <td>NaN</td>\n",
       "      <td>NaN</td>\n",
       "      <td>NaN</td>\n",
       "      <td>NaN</td>\n",
       "      <td>1</td>\n",
       "    </tr>\n",
       "    <tr>\n",
       "      <th>1</th>\n",
       "      <td>3781</td>\n",
       "      <td>HARBORSIDE-Walk to subway</td>\n",
       "      <td>4804</td>\n",
       "      <td>Frank</td>\n",
       "      <td>NaN</td>\n",
       "      <td>East Boston</td>\n",
       "      <td>42.365241</td>\n",
       "      <td>-71.029361</td>\n",
       "      <td>Entire home/apt</td>\n",
       "      <td>14</td>\n",
       "      <td>...</td>\n",
       "      <td>NaN</td>\n",
       "      <td>NaN</td>\n",
       "      <td>NaN</td>\n",
       "      <td>NaN</td>\n",
       "      <td>NaN</td>\n",
       "      <td>NaN</td>\n",
       "      <td>NaN</td>\n",
       "      <td>NaN</td>\n",
       "      <td>NaN</td>\n",
       "      <td>1</td>\n",
       "    </tr>\n",
       "    <tr>\n",
       "      <th>2</th>\n",
       "      <td>3781</td>\n",
       "      <td>HARBORSIDE-Walk to subway</td>\n",
       "      <td>4804</td>\n",
       "      <td>Frank</td>\n",
       "      <td>NaN</td>\n",
       "      <td>East Boston</td>\n",
       "      <td>42.365241</td>\n",
       "      <td>-71.029361</td>\n",
       "      <td>Entire home/apt</td>\n",
       "      <td>14</td>\n",
       "      <td>...</td>\n",
       "      <td>NaN</td>\n",
       "      <td>NaN</td>\n",
       "      <td>NaN</td>\n",
       "      <td>NaN</td>\n",
       "      <td>NaN</td>\n",
       "      <td>NaN</td>\n",
       "      <td>NaN</td>\n",
       "      <td>NaN</td>\n",
       "      <td>NaN</td>\n",
       "      <td>1</td>\n",
       "    </tr>\n",
       "    <tr>\n",
       "      <th>3</th>\n",
       "      <td>3781</td>\n",
       "      <td>HARBORSIDE-Walk to subway</td>\n",
       "      <td>4804</td>\n",
       "      <td>Frank</td>\n",
       "      <td>NaN</td>\n",
       "      <td>East Boston</td>\n",
       "      <td>42.365241</td>\n",
       "      <td>-71.029361</td>\n",
       "      <td>Entire home/apt</td>\n",
       "      <td>14</td>\n",
       "      <td>...</td>\n",
       "      <td>NaN</td>\n",
       "      <td>NaN</td>\n",
       "      <td>NaN</td>\n",
       "      <td>NaN</td>\n",
       "      <td>NaN</td>\n",
       "      <td>NaN</td>\n",
       "      <td>NaN</td>\n",
       "      <td>NaN</td>\n",
       "      <td>NaN</td>\n",
       "      <td>1</td>\n",
       "    </tr>\n",
       "    <tr>\n",
       "      <th>4</th>\n",
       "      <td>3781</td>\n",
       "      <td>HARBORSIDE-Walk to subway</td>\n",
       "      <td>4804</td>\n",
       "      <td>Frank</td>\n",
       "      <td>NaN</td>\n",
       "      <td>East Boston</td>\n",
       "      <td>42.365241</td>\n",
       "      <td>-71.029361</td>\n",
       "      <td>Entire home/apt</td>\n",
       "      <td>14</td>\n",
       "      <td>...</td>\n",
       "      <td>NaN</td>\n",
       "      <td>NaN</td>\n",
       "      <td>NaN</td>\n",
       "      <td>NaN</td>\n",
       "      <td>NaN</td>\n",
       "      <td>NaN</td>\n",
       "      <td>NaN</td>\n",
       "      <td>NaN</td>\n",
       "      <td>NaN</td>\n",
       "      <td>1</td>\n",
       "    </tr>\n",
       "  </tbody>\n",
       "</table>\n",
       "<p>5 rows × 41 columns</p>\n",
       "</div>"
      ],
      "text/plain": [
       "     id                  name_prev  host_id_prev host_name_prev  \\\n",
       "0  3781  HARBORSIDE-Walk to subway          4804          Frank   \n",
       "1  3781  HARBORSIDE-Walk to subway          4804          Frank   \n",
       "2  3781  HARBORSIDE-Walk to subway          4804          Frank   \n",
       "3  3781  HARBORSIDE-Walk to subway          4804          Frank   \n",
       "4  3781  HARBORSIDE-Walk to subway          4804          Frank   \n",
       "\n",
       "   neighbourhood_group_prev neighbourhood_prev  latitude_prev  longitude_prev  \\\n",
       "0                       NaN        East Boston      42.365241      -71.029361   \n",
       "1                       NaN        East Boston      42.365241      -71.029361   \n",
       "2                       NaN        East Boston      42.365241      -71.029361   \n",
       "3                       NaN        East Boston      42.365241      -71.029361   \n",
       "4                       NaN        East Boston      42.365241      -71.029361   \n",
       "\n",
       "    room_type_prev  number_of_reviews_prev  ...  adjusted_price  \\\n",
       "0  Entire home/apt                      14  ...             NaN   \n",
       "1  Entire home/apt                      14  ...             NaN   \n",
       "2  Entire home/apt                      14  ...             NaN   \n",
       "3  Entire home/apt                      14  ...             NaN   \n",
       "4  Entire home/apt                      14  ...             NaN   \n",
       "\n",
       "   minimum_nights  maximum_nights adjusted_price_prev minimum_nights_prev  \\\n",
       "0             NaN             NaN                 NaN                 NaN   \n",
       "1             NaN             NaN                 NaN                 NaN   \n",
       "2             NaN             NaN                 NaN                 NaN   \n",
       "3             NaN             NaN                 NaN                 NaN   \n",
       "4             NaN             NaN                 NaN                 NaN   \n",
       "\n",
       "  maximum_nights_prev adjusted_price_post  minimum_nights_post  \\\n",
       "0                 NaN                 NaN                  NaN   \n",
       "1                 NaN                 NaN                  NaN   \n",
       "2                 NaN                 NaN                  NaN   \n",
       "3                 NaN                 NaN                  NaN   \n",
       "4                 NaN                 NaN                  NaN   \n",
       "\n",
       "  maximum_nights_post  month  \n",
       "0                 NaN      1  \n",
       "1                 NaN      1  \n",
       "2                 NaN      1  \n",
       "3                 NaN      1  \n",
       "4                 NaN      1  \n",
       "\n",
       "[5 rows x 41 columns]"
      ]
     },
     "execution_count": 109,
     "metadata": {},
     "output_type": "execute_result"
    }
   ],
   "source": [
    "# Read in all nights booked\n",
    "nights = pd.read_csv(\"boston_2019_nights_booked.csv\")\n",
    "nights['date'] = pd.to_datetime(nights.date)\n",
    "nights = nights[(nights.date <= datetime(2019,12,31)) & (nights.date >= datetime(2019,1,1))]\n",
    "nights['month'] = nights.date.dt.month\n",
    "nights.head()"
   ]
  },
  {
   "cell_type": "code",
   "execution_count": 110,
   "metadata": {},
   "outputs": [
    {
     "data": {
      "text/html": [
       "<div>\n",
       "<style scoped>\n",
       "    .dataframe tbody tr th:only-of-type {\n",
       "        vertical-align: middle;\n",
       "    }\n",
       "\n",
       "    .dataframe tbody tr th {\n",
       "        vertical-align: top;\n",
       "    }\n",
       "\n",
       "    .dataframe thead th {\n",
       "        text-align: right;\n",
       "    }\n",
       "</style>\n",
       "<table border=\"1\" class=\"dataframe\">\n",
       "  <thead>\n",
       "    <tr style=\"text-align: right;\">\n",
       "      <th></th>\n",
       "      <th>listing_id</th>\n",
       "      <th>date</th>\n",
       "      <th>month</th>\n",
       "    </tr>\n",
       "  </thead>\n",
       "  <tbody>\n",
       "    <tr>\n",
       "      <th>14</th>\n",
       "      <td>3781</td>\n",
       "      <td>2019-02-22</td>\n",
       "      <td>2</td>\n",
       "    </tr>\n",
       "    <tr>\n",
       "      <th>15</th>\n",
       "      <td>3781</td>\n",
       "      <td>2019-12-21</td>\n",
       "      <td>12</td>\n",
       "    </tr>\n",
       "    <tr>\n",
       "      <th>96</th>\n",
       "      <td>5506</td>\n",
       "      <td>2019-02-18</td>\n",
       "      <td>2</td>\n",
       "    </tr>\n",
       "    <tr>\n",
       "      <th>97</th>\n",
       "      <td>5506</td>\n",
       "      <td>2019-03-17</td>\n",
       "      <td>3</td>\n",
       "    </tr>\n",
       "    <tr>\n",
       "      <th>98</th>\n",
       "      <td>5506</td>\n",
       "      <td>2019-03-30</td>\n",
       "      <td>3</td>\n",
       "    </tr>\n",
       "  </tbody>\n",
       "</table>\n",
       "</div>"
      ],
      "text/plain": [
       "    listing_id       date  month\n",
       "14        3781 2019-02-22      2\n",
       "15        3781 2019-12-21     12\n",
       "96        5506 2019-02-18      2\n",
       "97        5506 2019-03-17      3\n",
       "98        5506 2019-03-30      3"
      ]
     },
     "execution_count": 110,
     "metadata": {},
     "output_type": "execute_result"
    }
   ],
   "source": [
    "# Aggregate all reviews\n",
    "all_reviews = pd.read_csv(\"boston_reviews/jan_2019_reviews.csv\")\n",
    "all_reviews[\"date\"] = pd.to_datetime(all_reviews.date)\n",
    "months = [\"jan_2019\", \"feb_2019\", \"mar_2019\", \"apr_2019\", \"may_2019\", \"jun_2019\", \"jul_2019\", \"aug_2019\", \"sep_2019\", \"oct_2019\", \"nov_2019\", \"dec_2019\", \"jan_2020\", \"feb_2020\"]\n",
    "for m in months:\n",
    "    path = \"boston_reviews/\"+m+\"_reviews.csv\"\n",
    "    m_reviews = pd.read_csv(path)\n",
    "    m_reviews[\"date\"] = pd.to_datetime(m_reviews.date)\n",
    "    all_reviews = all_reviews.merge(m_reviews, on = [\"listing_id\", \"date\"], how = \"outer\")\n",
    "    all_reviews = all_reviews.groupby([\"listing_id\", \"date\"]).count().reset_index()\n",
    "    all_reviews = all_reviews[all_reviews.date >= datetime(2019,1,1)]\n",
    "all_reviews = all_reviews[all_reviews.date <= datetime(2019,12,31)]\n",
    "\n",
    "# Since `nights` only contains listings with 100+ listings free per year\n",
    "all_reviews = all_reviews[all_reviews.listing_id.isin(nights.id.unique())]\n",
    "all_reviews['month'] = all_reviews.date.dt.month\n",
    "all_reviews.head()"
   ]
  },
  {
   "cell_type": "markdown",
   "metadata": {},
   "source": [
    "### 2. Match on Month Level"
   ]
  },
  {
   "cell_type": "code",
   "execution_count": 111,
   "metadata": {},
   "outputs": [],
   "source": [
    "nights_by_month = nights.groupby('month').count().id"
   ]
  },
  {
   "cell_type": "code",
   "execution_count": 112,
   "metadata": {},
   "outputs": [],
   "source": [
    "reviews_by_month = all_reviews.groupby('month').count().listing_id"
   ]
  },
  {
   "cell_type": "code",
   "execution_count": 113,
   "metadata": {},
   "outputs": [],
   "source": [
    "by_month = pd.DataFrame({\"reviews\": reviews_by_month, \"stays\": nights_by_month}).reset_index()\n",
    "first_half = by_month[by_month.month < 7]\n",
    "second_half = by_month[by_month.month > 6]"
   ]
  },
  {
   "cell_type": "code",
   "execution_count": 114,
   "metadata": {},
   "outputs": [
    {
     "data": {
      "image/png": "[encoded data removed]",
      "text/plain": [
       "<Figure size 432x288 with 1 Axes>"
      ]
     },
     "metadata": {
      "needs_background": "light"
     },
     "output_type": "display_data"
    }
   ],
   "source": [
    "overall_coefs = np.polyfit(reviews_by_month, nights_by_month, 1)\n",
    "first_half_coefs = np.polyfit(first_half.reviews, first_half.stays, 1)\n",
    "second_half_coefs = np.polyfit(second_half.reviews, second_half.stays, 1)\n",
    "x = np.arange(12000)\n",
    "y_overall = x * overall_coefs[0] + overall_coefs[1]\n",
    "y_first_half = x * first_half_coefs[0] + first_half_coefs[1]\n",
    "y_second_half = x * second_half_coefs[0] + second_half_coefs[1]\n",
    "\n",
    "plt.scatter(first_half.reviews, first_half.stays, label = \"Pre Treatment\")\n",
    "plt.scatter(second_half.reviews, second_half.stays, label = \"Post Treatment\")\n",
    "plt.plot(x, y_first_half)\n",
    "plt.plot(x, y_second_half)\n",
    "plt.xlabel(\"Number of reviews\")\n",
    "plt.ylabel(\"Number of nights\")\n",
    "plt.legend();"
   ]
  },
  {
   "cell_type": "code",
   "execution_count": 115,
   "metadata": {
    "scrolled": true
   },
   "outputs": [
    {
     "name": "stdout",
     "output_type": "stream",
     "text": [
      "Overall coefficients: [3.95485841e+00 4.08654220e+04]\n",
      "Jan-Jun coefficients: [4.59607579e+00 2.89984396e+04]\n",
      "Jul-Dec coefficients: [4.22337122e+00 4.71194980e+04]\n"
     ]
    }
   ],
   "source": [
    "print(\"Overall coefficients:\", overall_coefs)\n",
    "print(\"Jan-Jun coefficients:\", first_half_coefs)\n",
    "print(\"Jul-Dec coefficients:\", second_half_coefs)"
   ]
  },
  {
   "cell_type": "code",
   "execution_count": 116,
   "metadata": {},
   "outputs": [
    {
     "data": {
      "text/plain": [
       "array([[1.        , 0.94873921],\n",
       "       [0.94873921, 1.        ]])"
      ]
     },
     "execution_count": 116,
     "metadata": {},
     "output_type": "execute_result"
    }
   ],
   "source": [
    "np.corrcoef(first_half.reviews, first_half.stays)"
   ]
  },
  {
   "cell_type": "code",
   "execution_count": 117,
   "metadata": {},
   "outputs": [
    {
     "data": {
      "text/plain": [
       "array([[1.        , 0.91415097],\n",
       "       [0.91415097, 1.        ]])"
      ]
     },
     "execution_count": 117,
     "metadata": {},
     "output_type": "execute_result"
    }
   ],
   "source": [
    "np.corrcoef(second_half.reviews, second_half.stays)"
   ]
  },
  {
   "cell_type": "markdown",
   "metadata": {},
   "source": [
    "### 3. Match on Unit"
   ]
  },
  {
   "cell_type": "code",
   "execution_count": 118,
   "metadata": {},
   "outputs": [
    {
     "data": {
      "text/html": [
       "<div>\n",
       "<style scoped>\n",
       "    .dataframe tbody tr th:only-of-type {\n",
       "        vertical-align: middle;\n",
       "    }\n",
       "\n",
       "    .dataframe tbody tr th {\n",
       "        vertical-align: top;\n",
       "    }\n",
       "\n",
       "    .dataframe thead th {\n",
       "        text-align: right;\n",
       "    }\n",
       "</style>\n",
       "<table border=\"1\" class=\"dataframe\">\n",
       "  <thead>\n",
       "    <tr style=\"text-align: right;\">\n",
       "      <th></th>\n",
       "      <th>id</th>\n",
       "      <th>month</th>\n",
       "      <th>nights</th>\n",
       "    </tr>\n",
       "  </thead>\n",
       "  <tbody>\n",
       "    <tr>\n",
       "      <th>0</th>\n",
       "      <td>3781</td>\n",
       "      <td>1</td>\n",
       "      <td>31</td>\n",
       "    </tr>\n",
       "    <tr>\n",
       "      <th>1</th>\n",
       "      <td>3781</td>\n",
       "      <td>2</td>\n",
       "      <td>13</td>\n",
       "    </tr>\n",
       "    <tr>\n",
       "      <th>2</th>\n",
       "      <td>3781</td>\n",
       "      <td>3</td>\n",
       "      <td>31</td>\n",
       "    </tr>\n",
       "    <tr>\n",
       "      <th>3</th>\n",
       "      <td>3781</td>\n",
       "      <td>4</td>\n",
       "      <td>27</td>\n",
       "    </tr>\n",
       "    <tr>\n",
       "      <th>4</th>\n",
       "      <td>3781</td>\n",
       "      <td>5</td>\n",
       "      <td>27</td>\n",
       "    </tr>\n",
       "  </tbody>\n",
       "</table>\n",
       "</div>"
      ],
      "text/plain": [
       "     id  month  nights\n",
       "0  3781      1      31\n",
       "1  3781      2      13\n",
       "2  3781      3      31\n",
       "3  3781      4      27\n",
       "4  3781      5      27"
      ]
     },
     "execution_count": 118,
     "metadata": {},
     "output_type": "execute_result"
    }
   ],
   "source": [
    "nights_by_unit_month = nights.groupby(['id', 'month']).count().reset_index()[['id', 'month', 'name_prev']].rename({'name_prev': 'nights'}, axis = 1)\n",
    "nights_by_unit_month.head()"
   ]
  },
  {
   "cell_type": "code",
   "execution_count": 119,
   "metadata": {},
   "outputs": [
    {
     "data": {
      "text/html": [
       "<div>\n",
       "<style scoped>\n",
       "    .dataframe tbody tr th:only-of-type {\n",
       "        vertical-align: middle;\n",
       "    }\n",
       "\n",
       "    .dataframe tbody tr th {\n",
       "        vertical-align: top;\n",
       "    }\n",
       "\n",
       "    .dataframe thead th {\n",
       "        text-align: right;\n",
       "    }\n",
       "</style>\n",
       "<table border=\"1\" class=\"dataframe\">\n",
       "  <thead>\n",
       "    <tr style=\"text-align: right;\">\n",
       "      <th></th>\n",
       "      <th>listing_id</th>\n",
       "      <th>month</th>\n",
       "      <th>reviews</th>\n",
       "    </tr>\n",
       "  </thead>\n",
       "  <tbody>\n",
       "    <tr>\n",
       "      <th>0</th>\n",
       "      <td>3781</td>\n",
       "      <td>2</td>\n",
       "      <td>1</td>\n",
       "    </tr>\n",
       "    <tr>\n",
       "      <th>1</th>\n",
       "      <td>3781</td>\n",
       "      <td>12</td>\n",
       "      <td>1</td>\n",
       "    </tr>\n",
       "    <tr>\n",
       "      <th>2</th>\n",
       "      <td>5506</td>\n",
       "      <td>2</td>\n",
       "      <td>1</td>\n",
       "    </tr>\n",
       "    <tr>\n",
       "      <th>3</th>\n",
       "      <td>5506</td>\n",
       "      <td>3</td>\n",
       "      <td>2</td>\n",
       "    </tr>\n",
       "    <tr>\n",
       "      <th>4</th>\n",
       "      <td>5506</td>\n",
       "      <td>4</td>\n",
       "      <td>2</td>\n",
       "    </tr>\n",
       "  </tbody>\n",
       "</table>\n",
       "</div>"
      ],
      "text/plain": [
       "   listing_id  month  reviews\n",
       "0        3781      2        1\n",
       "1        3781     12        1\n",
       "2        5506      2        1\n",
       "3        5506      3        2\n",
       "4        5506      4        2"
      ]
     },
     "execution_count": 119,
     "metadata": {},
     "output_type": "execute_result"
    }
   ],
   "source": [
    "reviews_by_unit_month = all_reviews.groupby(['listing_id', 'month']).count().reset_index().rename({'date': \"reviews\"}, axis = 1)\n",
    "reviews_by_unit_month.head()"
   ]
  },
  {
   "cell_type": "code",
   "execution_count": 120,
   "metadata": {},
   "outputs": [],
   "source": [
    "data_by_unit_month = nights_by_unit_month.merge(reviews_by_unit_month, \n",
    "                                                left_on = ['id', 'month'], \n",
    "                                                right_on = ['listing_id', 'month'], \n",
    "                                                how = 'left')\n",
    "\n",
    "data_by_unit_month = data_by_unit_month.drop(\"listing_id\", axis = 1)\n",
    "data_by_unit_month = data_by_unit_month.fillna(0)\n",
    "data_by_unit_month['pre'] = (data_by_unit_month.month < 7).astype(int)"
   ]
  },
  {
   "cell_type": "code",
   "execution_count": 121,
   "metadata": {
    "scrolled": true
   },
   "outputs": [],
   "source": [
    "def has_both(df):\n",
    "    if len(df.pre.unique()) > 1 and np.sum(df.nights) > 7:\n",
    "        return True\n",
    "    else:\n",
    "        return False\n",
    "in_pre_post = data_by_unit_month.groupby('id').apply(has_both).reset_index()\n",
    "in_pre_post_ids = in_pre_post[in_pre_post[0] == True]['id']\n",
    "data_by_unit_month = data_by_unit_month[data_by_unit_month.id.isin(in_pre_post_ids)]"
   ]
  },
  {
   "cell_type": "code",
   "execution_count": 122,
   "metadata": {},
   "outputs": [],
   "source": [
    "data_by_unit_month = data_by_unit_month.groupby(['id', 'pre']).sum().reset_index()\n",
    "pre = data_by_unit_month[data_by_unit_month.pre == 1]\n",
    "post = data_by_unit_month[data_by_unit_month.pre == 0]"
   ]
  },
  {
   "cell_type": "code",
   "execution_count": 123,
   "metadata": {},
   "outputs": [
    {
     "data": {
      "image/png": "[encoded data removed]",
      "text/plain": [
       "<Figure size 432x288 with 1 Axes>"
      ]
     },
     "metadata": {
      "needs_background": "light"
     },
     "output_type": "display_data"
    }
   ],
   "source": [
    "plt.scatter(pre.reviews, pre.nights, alpha = 0.05)\n",
    "plt.xlabel(\"Number of reviews\")\n",
    "plt.ylabel(\"Number of nights\");"
   ]
  },
  {
   "cell_type": "code",
   "execution_count": 124,
   "metadata": {},
   "outputs": [
    {
     "data": {
      "image/png": "[encoded data removed]",
      "text/plain": [
       "<Figure size 432x288 with 1 Axes>"
      ]
     },
     "metadata": {
      "needs_background": "light"
     },
     "output_type": "display_data"
    }
   ],
   "source": [
    "plt.scatter(post.reviews, post.nights, alpha = 0.05)\n",
    "plt.xlabel(\"Number of reviews\")\n",
    "plt.ylabel(\"Number of nights\");"
   ]
  },
  {
   "cell_type": "code",
   "execution_count": 125,
   "metadata": {},
   "outputs": [
    {
     "data": {
      "text/plain": [
       "array([[1.        , 0.15900979],\n",
       "       [0.15900979, 1.        ]])"
      ]
     },
     "execution_count": 125,
     "metadata": {},
     "output_type": "execute_result"
    }
   ],
   "source": [
    "np.corrcoef(pre.reviews, pre.nights, 1)"
   ]
  },
  {
   "cell_type": "code",
   "execution_count": 126,
   "metadata": {},
   "outputs": [
    {
     "data": {
      "text/plain": [
       "array([[1.        , 0.11339267],\n",
       "       [0.11339267, 1.        ]])"
      ]
     },
     "execution_count": 126,
     "metadata": {},
     "output_type": "execute_result"
    }
   ],
   "source": [
    "np.corrcoef(post.reviews, post.nights, 1)"
   ]
  },
  {
   "cell_type": "code",
   "execution_count": null,
   "metadata": {},
   "outputs": [],
   "source": []
  }
 ],
 "metadata": {
  "kernelspec": {
   "display_name": "Python 3",
   "language": "python",
   "name": "python3"
  },
  "language_info": {
   "codemirror_mode": {
    "name": "ipython",
    "version": 3
   },
   "file_extension": ".py",
   "mimetype": "text/x-python",
   "name": "python",
   "nbconvert_exporter": "python",
   "pygments_lexer": "ipython3",
   "version": "3.8.1"
  }
 },
 "nbformat": 4,
 "nbformat_minor": 4
}
