{
 "cells": [
  {
   "cell_type": "code",
   "execution_count": 1,
   "metadata": {},
   "outputs": [],
   "source": [
    "import pandas as pd\n",
    "import numpy as np\n",
    "from datetime import datetime"
   ]
  },
  {
   "cell_type": "code",
   "execution_count": 48,
   "metadata": {},
   "outputs": [],
   "source": [
    "def get_booked_listings(prev_listings_path, prev_calendar_path, post_listings_path, post_calendar_path, output_path):\n",
    "    prev_listings = pd.read_csv(prev_listings_path)\n",
    "    prev_calendar = pd.read_csv(prev_calendar_path)\n",
    "    post_listings = pd.read_csv(post_listings_path)\n",
    "    post_calendar = pd.read_csv(post_calendar_path)\n",
    "    \n",
    "    prev_listings = prev_listings.drop([\"price\", \"minimum_nights\", \"last_review\"], axis = 1)\n",
    "    post_listings = post_listings.drop([\"price\", \"minimum_nights\", \"last_review\"], axis = 1)\n",
    "    \n",
    "    prev = prev_listings.merge(prev_calendar, left_on = \"id\", right_on = \"listing_id\")\n",
    "    post = post_listings.merge(post_calendar, left_on = \"id\", right_on = \"listing_id\")\n",
    "    \n",
    "    prev = prev.drop([\"listing_id\"], axis = 1)\n",
    "    post = post.drop([\"listing_id\"], axis = 1)\n",
    "    \n",
    "    merged = prev.merge(post, on = [\"id\", \"date\"], suffixes = [\"_prev\", \"_post\"])\n",
    "    booking_changes = merged[(merged.available_prev == 't') & (merged.available_post == 'f')]\n",
    "    booking_changes.to_csv(output_path, index=False)"
   ]
  },
  {
   "cell_type": "code",
   "execution_count": 49,
   "metadata": {},
   "outputs": [],
   "source": [
    "get_booked_listings(\"july_listings.csv\", \"july_calendar.csv\", \"aug_listings.csv\", \"aug_calendar.csv\", \"boston_jul_aug_bookings.csv\")"
   ]
  },
  {
   "cell_type": "code",
   "execution_count": 55,
   "metadata": {},
   "outputs": [],
   "source": [
    "t = pd.read_csv(\"raw_boston_data/jul_calendar.csv\")"
   ]
  },
  {
   "cell_type": "code",
   "execution_count": 64,
   "metadata": {},
   "outputs": [],
   "source": [
    "t['date'] = pd.to_datetime(t.date)"
   ]
  },
  {
   "cell_type": "code",
   "execution_count": 66,
   "metadata": {},
   "outputs": [
    {
     "data": {
      "text/plain": [
       "0         2019-07-14\n",
       "1         2019-07-15\n",
       "2         2019-07-16\n",
       "3         2019-07-17\n",
       "4         2019-07-18\n",
       "             ...    \n",
       "2286355   2020-07-08\n",
       "2286356   2020-07-09\n",
       "2286357   2020-07-10\n",
       "2286358   2020-07-11\n",
       "2286359   2020-07-12\n",
       "Name: date, Length: 2286360, dtype: datetime64[ns]"
      ]
     },
     "execution_count": 66,
     "metadata": {},
     "output_type": "execute_result"
    }
   ],
   "source": [
    "t.date"
   ]
  },
  {
   "cell_type": "code",
   "execution_count": 65,
   "metadata": {},
   "outputs": [
    {
     "data": {
      "text/plain": [
       "0           True\n",
       "1           True\n",
       "2          False\n",
       "3          False\n",
       "4          False\n",
       "           ...  \n",
       "2286355    False\n",
       "2286356    False\n",
       "2286357    False\n",
       "2286358    False\n",
       "2286359    False\n",
       "Name: date, Length: 2286360, dtype: bool"
      ]
     },
     "execution_count": 65,
     "metadata": {},
     "output_type": "execute_result"
    }
   ],
   "source": [
    "t.date <= datetime(2019, 7, 15)"
   ]
  },
  {
   "cell_type": "code",
   "execution_count": 2,
   "metadata": {},
   "outputs": [],
   "source": [
    "reservations = pd.read_csv(\"boston_reservations.csv\")"
   ]
  },
  {
   "cell_type": "code",
   "execution_count": 5,
   "metadata": {},
   "outputs": [
    {
     "data": {
      "text/html": [
       "<div>\n",
       "<style scoped>\n",
       "    .dataframe tbody tr th:only-of-type {\n",
       "        vertical-align: middle;\n",
       "    }\n",
       "\n",
       "    .dataframe tbody tr th {\n",
       "        vertical-align: top;\n",
       "    }\n",
       "\n",
       "    .dataframe thead th {\n",
       "        text-align: right;\n",
       "    }\n",
       "</style>\n",
       "<table border=\"1\" class=\"dataframe\">\n",
       "  <thead>\n",
       "    <tr style=\"text-align: right;\">\n",
       "      <th></th>\n",
       "      <th>id</th>\n",
       "      <th>reservation_period</th>\n",
       "      <th>date</th>\n",
       "    </tr>\n",
       "  </thead>\n",
       "  <tbody>\n",
       "    <tr>\n",
       "      <th>0</th>\n",
       "      <td>3781</td>\n",
       "      <td>jan_2019_feb_2019</td>\n",
       "      <td>2019-02-28</td>\n",
       "    </tr>\n",
       "    <tr>\n",
       "      <th>1</th>\n",
       "      <td>3781</td>\n",
       "      <td>jan_2019_feb_2019</td>\n",
       "      <td>2019-03-01</td>\n",
       "    </tr>\n",
       "    <tr>\n",
       "      <th>2</th>\n",
       "      <td>3781</td>\n",
       "      <td>jan_2019_feb_2019</td>\n",
       "      <td>2019-03-02</td>\n",
       "    </tr>\n",
       "    <tr>\n",
       "      <th>3</th>\n",
       "      <td>3781</td>\n",
       "      <td>jan_2019_feb_2019</td>\n",
       "      <td>2019-03-03</td>\n",
       "    </tr>\n",
       "    <tr>\n",
       "      <th>4</th>\n",
       "      <td>3781</td>\n",
       "      <td>jan_2019_feb_2019</td>\n",
       "      <td>2019-03-04</td>\n",
       "    </tr>\n",
       "    <tr>\n",
       "      <th>5</th>\n",
       "      <td>3781</td>\n",
       "      <td>jan_2019_feb_2019</td>\n",
       "      <td>2019-03-05</td>\n",
       "    </tr>\n",
       "    <tr>\n",
       "      <th>6</th>\n",
       "      <td>3781</td>\n",
       "      <td>jan_2019_feb_2019</td>\n",
       "      <td>2019-03-06</td>\n",
       "    </tr>\n",
       "    <tr>\n",
       "      <th>7</th>\n",
       "      <td>3781</td>\n",
       "      <td>jan_2019_feb_2019</td>\n",
       "      <td>2019-03-07</td>\n",
       "    </tr>\n",
       "    <tr>\n",
       "      <th>8</th>\n",
       "      <td>3781</td>\n",
       "      <td>jan_2019_feb_2019</td>\n",
       "      <td>2019-03-08</td>\n",
       "    </tr>\n",
       "    <tr>\n",
       "      <th>9</th>\n",
       "      <td>3781</td>\n",
       "      <td>jan_2019_feb_2019</td>\n",
       "      <td>2019-03-09</td>\n",
       "    </tr>\n",
       "    <tr>\n",
       "      <th>10</th>\n",
       "      <td>3781</td>\n",
       "      <td>jan_2019_feb_2019</td>\n",
       "      <td>2019-03-10</td>\n",
       "    </tr>\n",
       "    <tr>\n",
       "      <th>11</th>\n",
       "      <td>3781</td>\n",
       "      <td>jan_2019_feb_2019</td>\n",
       "      <td>2019-03-11</td>\n",
       "    </tr>\n",
       "    <tr>\n",
       "      <th>12</th>\n",
       "      <td>3781</td>\n",
       "      <td>jan_2019_feb_2019</td>\n",
       "      <td>2019-03-12</td>\n",
       "    </tr>\n",
       "    <tr>\n",
       "      <th>13</th>\n",
       "      <td>3781</td>\n",
       "      <td>jan_2019_feb_2019</td>\n",
       "      <td>2019-03-13</td>\n",
       "    </tr>\n",
       "    <tr>\n",
       "      <th>14</th>\n",
       "      <td>3781</td>\n",
       "      <td>jan_2019_feb_2019</td>\n",
       "      <td>2019-03-14</td>\n",
       "    </tr>\n",
       "    <tr>\n",
       "      <th>15</th>\n",
       "      <td>3781</td>\n",
       "      <td>jan_2019_feb_2019</td>\n",
       "      <td>2019-03-15</td>\n",
       "    </tr>\n",
       "    <tr>\n",
       "      <th>16</th>\n",
       "      <td>3781</td>\n",
       "      <td>jan_2019_feb_2019</td>\n",
       "      <td>2019-03-16</td>\n",
       "    </tr>\n",
       "    <tr>\n",
       "      <th>17</th>\n",
       "      <td>3781</td>\n",
       "      <td>jan_2019_feb_2019</td>\n",
       "      <td>2019-03-17</td>\n",
       "    </tr>\n",
       "    <tr>\n",
       "      <th>18</th>\n",
       "      <td>3781</td>\n",
       "      <td>jan_2019_feb_2019</td>\n",
       "      <td>2019-03-18</td>\n",
       "    </tr>\n",
       "    <tr>\n",
       "      <th>19</th>\n",
       "      <td>3781</td>\n",
       "      <td>jan_2019_feb_2019</td>\n",
       "      <td>2019-03-19</td>\n",
       "    </tr>\n",
       "  </tbody>\n",
       "</table>\n",
       "</div>"
      ],
      "text/plain": [
       "      id reservation_period        date\n",
       "0   3781  jan_2019_feb_2019  2019-02-28\n",
       "1   3781  jan_2019_feb_2019  2019-03-01\n",
       "2   3781  jan_2019_feb_2019  2019-03-02\n",
       "3   3781  jan_2019_feb_2019  2019-03-03\n",
       "4   3781  jan_2019_feb_2019  2019-03-04\n",
       "5   3781  jan_2019_feb_2019  2019-03-05\n",
       "6   3781  jan_2019_feb_2019  2019-03-06\n",
       "7   3781  jan_2019_feb_2019  2019-03-07\n",
       "8   3781  jan_2019_feb_2019  2019-03-08\n",
       "9   3781  jan_2019_feb_2019  2019-03-09\n",
       "10  3781  jan_2019_feb_2019  2019-03-10\n",
       "11  3781  jan_2019_feb_2019  2019-03-11\n",
       "12  3781  jan_2019_feb_2019  2019-03-12\n",
       "13  3781  jan_2019_feb_2019  2019-03-13\n",
       "14  3781  jan_2019_feb_2019  2019-03-14\n",
       "15  3781  jan_2019_feb_2019  2019-03-15\n",
       "16  3781  jan_2019_feb_2019  2019-03-16\n",
       "17  3781  jan_2019_feb_2019  2019-03-17\n",
       "18  3781  jan_2019_feb_2019  2019-03-18\n",
       "19  3781  jan_2019_feb_2019  2019-03-19"
      ]
     },
     "execution_count": 5,
     "metadata": {},
     "output_type": "execute_result"
    }
   ],
   "source": [
    "reservations.head(20)[[\"id\", \"reservation_period\", \"date\"]]"
   ]
  },
  {
   "cell_type": "code",
   "execution_count": 9,
   "metadata": {},
   "outputs": [
    {
     "data": {
      "text/plain": [
       "185706"
      ]
     },
     "execution_count": 9,
     "metadata": {},
     "output_type": "execute_result"
    }
   ],
   "source": [
    "from datetime import datetime\n",
    "sum(pd.to_datetime(reservations.date) >= datetime(2020,1,1)) "
   ]
  },
  {
   "cell_type": "code",
   "execution_count": 10,
   "metadata": {},
   "outputs": [
    {
     "data": {
      "text/plain": [
       "896298"
      ]
     },
     "execution_count": 10,
     "metadata": {},
     "output_type": "execute_result"
    }
   ],
   "source": [
    "reservations.shape[0]"
   ]
  },
  {
   "cell_type": "code",
   "execution_count": null,
   "metadata": {},
   "outputs": [],
   "source": []
  }
 ],
 "metadata": {
  "kernelspec": {
   "display_name": "Python 3",
   "language": "python",
   "name": "python3"
  },
  "language_info": {
   "codemirror_mode": {
    "name": "ipython",
    "version": 3
   },
   "file_extension": ".py",
   "mimetype": "text/x-python",
   "name": "python",
   "nbconvert_exporter": "python",
   "pygments_lexer": "ipython3",
   "version": "3.8.1"
  }
 },
 "nbformat": 4,
 "nbformat_minor": 4
}
